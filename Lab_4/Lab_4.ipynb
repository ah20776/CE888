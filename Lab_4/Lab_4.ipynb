{
  "nbformat": 4,
  "nbformat_minor": 0,
  "metadata": {
    "colab": {
      "name": "Lab_4.ipynb",
      "provenance": [],
      "collapsed_sections": [],
      "authorship_tag": "ABX9TyPkEVK6MYM5inV0GCLjKDcZ",
      "include_colab_link": true
    },
    "kernelspec": {
      "name": "python3",
      "display_name": "Python 3"
    },
    "language_info": {
      "name": "python"
    }
  },
  "cells": [
    {
      "cell_type": "markdown",
      "metadata": {
        "id": "view-in-github",
        "colab_type": "text"
      },
      "source": [
        "<a href=\"https://colab.research.google.com/github/ah20776/CE888/blob/main/Lab_4/Lab_4.ipynb\" target=\"_parent\"><img src=\"https://colab.research.google.com/assets/colab-badge.svg\" alt=\"Open In Colab\"/></a>"
      ]
    },
    {
      "cell_type": "code",
      "metadata": {
        "id": "4OVOyVYVjSLS"
      },
      "source": [
        "import pandas as pd\n",
        "import numpy as np\n",
        "import matplotlib.pyplot as plt\n",
        "from IPython.display import Image"
      ],
      "execution_count": null,
      "outputs": []
    },
    {
      "cell_type": "code",
      "metadata": {
        "id": "EKMf6RPxjcvJ"
      },
      "source": [
        "np.set_printoptions(precision = 3)\n",
        "column_names = list(range(0,101))\n",
        "print(column_names)\n",
        "data = pd.read_csv('https://raw.githubusercontent.com/albanda/CE888/master/lab4-recommender/jester-data-1.csv',names=column_names)\n",
        "df= data.copy()\n",
        "df"
      ],
      "execution_count": null,
      "outputs": []
    },
    {
      "cell_type": "code",
      "metadata": {
        "id": "H3nmelorjhZ8"
      },
      "source": [
        "df.replace(99,  np.nan, inplace=True)\n",
        "df"
      ],
      "execution_count": null,
      "outputs": []
    },
    {
      "cell_type": "code",
      "metadata": {
        "id": "bKKWIlnljj0O"
      },
      "source": [
        "df.drop(0, axis=1, inplace=True)\n",
        "df"
      ],
      "execution_count": null,
      "outputs": []
    },
    {
      "cell_type": "code",
      "metadata": {
        "id": "dkC-dpZIjmM0"
      },
      "source": [
        "x=[]\n",
        "for i in df.columns:\n",
        "  x.append(df[i].mean())\n",
        "#  max_value = max(x)\n",
        "print(x.index(max(x)))\n",
        "print(\"best joke  : \",x.index(max(x)),\"  rating : \",max(x))\n",
        "print(\"worst joke : \",x.index(min(x)),\"  rating : \", min(x))"
      ],
      "execution_count": null,
      "outputs": []
    },
    {
      "cell_type": "code",
      "metadata": {
        "id": "0EZaR4q0jovy"
      },
      "source": [
        "df2 = df.copy()\n",
        "print(df)\n",
        "arr = df.values\n",
        "print(arr.shape)"
      ],
      "execution_count": null,
      "outputs": []
    },
    {
      "cell_type": "code",
      "metadata": {
        "id": "gGX42HQ4jrPw"
      },
      "source": [
        "def replace(orig, percentage=0.1):\n",
        "  \"\"\"\n",
        "  Replaces 'percentage'% of the original values in 'orig' with 99's\n",
        "  :param orig: original data array\n",
        "  :param percentage: percentage of values to replace (0<percentage<1)\n",
        "  \"\"\"\n",
        "  new_data = orig.copy()\n",
        "  rated = np.where(arr!= np.nan) #all values that are not 99 are taken as \n",
        "  n_rated = len(rated[0])\n",
        "  idx = np.random.choice(n_rated, size=int(percentage*n_rated), replace=False)\n",
        "  new_data[rated[0][idx], rated[1][idx]] = 99\n",
        "  return new_data, (rated[0][idx], rated[1][idx])\n",
        "\n",
        "new_arr, idx = replace(arr, 0.1)\n",
        "print(new_arr,idx)"
      ],
      "execution_count": null,
      "outputs": []
    },
    {
      "cell_type": "code",
      "metadata": {
        "id": "ak88IaZAjuEV"
      },
      "source": [
        "arr[idx[0][0], idx[1][0]]\n"
      ],
      "execution_count": null,
      "outputs": []
    },
    {
      "cell_type": "code",
      "metadata": {
        "id": "QFTMJdz8j379"
      },
      "source": [
        "new_arr[idx[0][0], idx[1][0]]"
      ],
      "execution_count": null,
      "outputs": []
    },
    {
      "cell_type": "code",
      "metadata": {
        "id": "7nCd2MAjj6oW"
      },
      "source": [
        "data = df\n",
        "n_latent_factors = 2\n",
        "\n",
        "user_ratings = data.values\n",
        "# Initialise as random values\n",
        "latent_user_preferences = np.random.random((user_ratings.shape[0], n_latent_factors))\n",
        "latent_item_features = np.random.random((user_ratings.shape[1], n_latent_factors))"
      ],
      "execution_count": null,
      "outputs": []
    },
    {
      "cell_type": "code",
      "metadata": {
        "id": "W2i7oypHj8w8"
      },
      "source": [
        "latent_item_features\n"
      ],
      "execution_count": null,
      "outputs": []
    },
    {
      "cell_type": "code",
      "metadata": {
        "id": "XmV5pDy1j-hI"
      },
      "source": [
        "latent_user_preferences"
      ],
      "execution_count": null,
      "outputs": []
    },
    {
      "cell_type": "code",
      "metadata": {
        "id": "zorAUO2tkBQh"
      },
      "source": [
        "def predict_rating(user_id, item_id):\n",
        "    \"\"\" Predict a rating given a user_id and an item_id.\n",
        "    \"\"\"\n",
        "    user_preference = latent_user_preferences[user_id]\n",
        "    item_preference = latent_item_features[item_id]\n",
        "    return user_preference.dot(item_preference)\n",
        "\n",
        "\n",
        "def train(user_id, item_id, rating, alpha=0.0001):\n",
        "    #print(item_id)\n",
        "    predicted_rating = predict_rating(user_id, item_id)\n",
        "    err =  predicted_rating - rating\n",
        "    #print(err)\n",
        "    user_pref_values = latent_user_preferences[user_id]\n",
        "    latent_user_preferences[user_id] -= alpha * err * latent_item_features[item_id]\n",
        "    latent_item_features[item_id] -= alpha * err * user_pref_values\n",
        "    return err\n",
        "    \n",
        "\n",
        "def sgd(iterations):\n",
        "    \"\"\" Iterate over all users and all items and train for \n",
        "        a certain number of iterations\n",
        "    \"\"\"\n",
        "    mse_history = []\n",
        "    for iteration in range(iterations):\n",
        "        error = []\n",
        "        for user_id in range(latent_user_preferences.shape[0]):\n",
        "            for item_id in range(latent_item_features.shape[0]):\n",
        "                rating = user_ratings[user_id, item_id]\n",
        "                if not np.isnan(rating):\n",
        "                    err = train(user_id, item_id, rating)\n",
        "                    error.append(err)\n",
        "        mse = (np.array(error) ** 2).mean()   \n",
        "        if (iteration % 10000) == 0:\n",
        "            print('Iteration %d/%d:\\tMSE=%.6f' % (iteration, iterations, mse))\n",
        "            mse_history.append(mse)\n",
        "    return mse_history"
      ],
      "execution_count": null,
      "outputs": []
    },
    {
      "cell_type": "code",
      "metadata": {
        "id": "CdfbV4XAkEsX"
      },
      "source": [
        "num_iter = 20\n",
        "hist = sgd(num_iter)  # Note how the MSE decreases with the number of iterations\n",
        "plt.figure()\n",
        "plt.plot(np.arange(0, num_iter, 10000), hist)\n",
        "plt.xlabel(\"Iterations\")\n",
        "plt.ylabel(\"MSE\")\n",
        "plt.show()"
      ],
      "execution_count": null,
      "outputs": []
    },
    {
      "cell_type": "code",
      "metadata": {
        "id": "RT4Obv59kG9C"
      },
      "source": [
        "predictions = latent_user_preferences.dot(latent_item_features.T)\n",
        "predictions"
      ],
      "execution_count": null,
      "outputs": []
    },
    {
      "cell_type": "code",
      "metadata": {
        "id": "0IJYOr-FkJJS"
      },
      "source": [
        "values = [zip(user_ratings[i], predictions[i]) for i in range(predictions.shape[0])]\n",
        "comparison_data = pd.DataFrame(values)\n",
        "comparison_data.columns = data.columns\n",
        "comparison_data"
      ],
      "execution_count": null,
      "outputs": []
    },
    {
      "cell_type": "code",
      "metadata": {
        "id": "T25q7kxWkLAi"
      },
      "source": [
        ""
      ],
      "execution_count": null,
      "outputs": []
    }
  ]
}